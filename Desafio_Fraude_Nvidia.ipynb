{
  "nbformat": 4,
  "nbformat_minor": 0,
  "metadata": {
    "colab": {
      "name": "Desafio Fraude_Nvidia.ipynb",
      "provenance": [],
      "collapsed_sections": [],
      "include_colab_link": true
    },
    "kernelspec": {
      "name": "python3",
      "display_name": "Python 3"
    },
    "language_info": {
      "name": "python"
    }
  },
  "cells": [
    {
      "cell_type": "markdown",
      "metadata": {
        "id": "view-in-github",
        "colab_type": "text"
      },
      "source": [
        "<a href=\"https://colab.research.google.com/github/juninhoisrael/Desafio-de-Fraude-TERA/blob/main/Desafio_Fraude_Nvidia.ipynb\" target=\"_parent\"><img src=\"https://colab.research.google.com/assets/colab-badge.svg\" alt=\"Open In Colab\"/></a>"
      ]
    },
    {
      "cell_type": "markdown",
      "metadata": {
        "id": "VYw2mDBxPQdj"
      },
      "source": [
        "# **Desafio de Detecção e Redução de Fraudes no Setor Financeiro**\n",
        "Projeto de um problema de classificação com Machine Learning em dados desbalanceados."
      ]
    },
    {
      "cell_type": "markdown",
      "source": [
        "## ◽ **O Problema** \n",
        "\n",
        "Embora muito se fale da capacidade de geração de receita das empresas, um dos principais entraves para o sucesso de um negócio está atrelado ao seu custo. A captação de clientes se tornou cada vez mais penosa, assim como a manutenção da carteira. Com isso, a gestão de custo se tornou um fator extremamente estratégico para garantir a margem e o crescimento das empresas.\n",
        "\n",
        "No entanto, o advento no mundo digital para expandir o negócio ou garantir a sua sobrevivência enfrenta um grande desafio para redução do custo operacional: as fraudes, sobretudo as relacionadas às operações comerciais e financeiras, que impactam, na prática, todos os tipos de indústrias e setores da economia. Do governo, ao banco, do varejista ao microempreendedor, todos precisam conhecer e enfrentar este desafio."
      ],
      "metadata": {
        "id": "SeiWag_XuuSJ"
      }
    },
    {
      "cell_type": "markdown",
      "source": [
        "## ◽ **O Objetivo** \n",
        "Você precisa propor uma solução para detecção e análise de fraudes que possam reduzir os riscos da empresa e garantir margens saudáveis. Lembre-se, que o resultado do seu trabalho dará ainda mais visibilidade para você e sua área. Seja criterioso, utilize bons argumentos, fatos e justificativas para sua proposta, bem como, claro, faça uma boa execução do seu projeto."
      ],
      "metadata": {
        "id": "NN5UujMMytxV"
      }
    },
    {
      "cell_type": "markdown",
      "source": [
        "## ◽ **As Etapas do Projeto** \n",
        "## 1. Obtenção e Importação dos Dados\n",
        "## 2. Análise Exploratória dos Dados\n",
        "## 3. Pré-processamento dos Dados\n",
        "## 4. Processo de Modelagem\n",
        "## 5. Considerações Finais"
      ],
      "metadata": {
        "id": "nd3dy8XVu5fo"
      }
    },
    {
      "cell_type": "markdown",
      "metadata": {
        "id": "s46mBa_Su_XH"
      },
      "source": [
        "---\n",
        "# ◾ **Etapa 1.** Introdução"
      ]
    },
    {
      "cell_type": "markdown",
      "source": [
        "Considerando que o objetivo dos fraudadores em geral é terem benefícios monetários, torna evidente que o setor financeiro é um dos seus principais alvos. Mesmo o crescente investimento em ações preventivas e de monitoramento não têm sido suficientes para barrar ou frear a escalada dos criminosos. De acordo com a Psafe (https://www.psafe.com/), de janeiro a agosto do ano passado foram 920 mil casos somente no Brasil e a cada minuto, 3,6 fraudes acontecem no país. Foram detectados, por exemplo, mais de 11 milhões de tentativas de fishing bancário.\n",
        "\n",
        "A indústria financeira possui grande representatividade no Brasil e no mundo. Para se ter uma ideia, os ativos dos bancos no Brasil somam R$ 7,4 trilhões, superando o próprio PIB do país (Infomoney)(https://www.infomoney.com.br/economia/ativos-de-bancos-somam-r-74-trilhoes-e-superam-pib-brasileiro/), 25-05-2020).\n",
        "\n",
        " De acordo com a ABECS(https://www.abecs.org.br/) (Associação Brasileira das Empresas de Cartão de Crédito e Serviços), foram movimentados R$ 558 bilhões no primeiro trimestre de 2021 e os cartões de crédito representaram R$ 335 bilhões desse total. Foram 6,5 bilhões de transações, um crescimento de 11,8%, com destaque para cartão de débito que apresentou aumento de 163% (veja quadros abaixo). Apesar da opulência destes números, o impacto das fraudes é igualmente gritante. Os crimes cibernéticos, considerando apenas transações de cartão de crédito, já projetavam em 2018 um impacto de 6 trilhões de dólares de perda de receita até 2021 ao redor do mundo."
      ],
      "metadata": {
        "id": "9HnEjGP_vcli"
      }
    },
    {
      "cell_type": "markdown",
      "source": [
        "## ◽ **Importação dos Dados** "
      ],
      "metadata": {
        "id": "vZLjXq8uvJCW"
      }
    },
    {
      "cell_type": "code",
      "source": [
        "# Permitir o Google Colab utilizar arquivos do Google Drive\n",
        "\n",
        "import pandas as pd\n",
        "from google.colab import drive\n",
        "drive.mount('/content/drive')"
      ],
      "metadata": {
        "colab": {
          "base_uri": "https://localhost:8080/"
        },
        "id": "e6fGjC7d_fWG",
        "outputId": "0379c207-fc08-4e6c-8bc4-7c1d5a3d2a7c"
      },
      "execution_count": 1,
      "outputs": [
        {
          "output_type": "stream",
          "name": "stdout",
          "text": [
            "Drive already mounted at /content/drive; to attempt to forcibly remount, call drive.mount(\"/content/drive\", force_remount=True).\n"
          ]
        }
      ]
    },
    {
      "cell_type": "code",
      "metadata": {
        "colab": {
          "base_uri": "https://localhost:8080/",
          "height": 363
        },
        "id": "4yPcXxB_Pokf",
        "outputId": "2c496c62-7aa0-49af-f0e8-06d0f857a141"
      },
      "source": [
        "\n",
        "import pandas as pd\n",
        "\n",
        "caminho = '/content/drive/MyDrive/Colab Notebooks/TERA/desafio classificação/fraud.csv' \n",
        "dados = pd.read_csv(caminho)  \n",
        "dados.sample(10)"
      ],
      "execution_count": 2,
      "outputs": [
        {
          "output_type": "execute_result",
          "data": {
            "text/plain": [
              "         step      type      amount     nameOrig  oldbalanceOrg  \\\n",
              "2474990   204  CASH_OUT   134893.81  C1054767703        1034.00   \n",
              "4808043   346  CASH_OUT   176739.30  C1882600964           0.00   \n",
              "1207691   133  CASH_OUT   168217.96  C1117740108           0.00   \n",
              "3698513   277  CASH_OUT   493089.60  C1446463232           0.00   \n",
              "5700457   398  TRANSFER   437301.37  C1150494735      137645.00   \n",
              "2964985   231   CASH_IN   133841.01   C769928778     9436675.58   \n",
              "4450365   323  TRANSFER  1749066.99   C929853246           0.00   \n",
              "38702       9  CASH_OUT   415327.58  C1222665243        4438.00   \n",
              "4732502   332   PAYMENT     9017.75   C655685683        1435.00   \n",
              "322867     16  CASH_OUT    11456.03  C1640029698      311558.84   \n",
              "\n",
              "         newbalanceOrig     nameDest  oldbalanceDest  newbalanceDest  isFraud  \\\n",
              "2474990            0.00  C1975664031       378507.36       513401.17        0   \n",
              "4808043            0.00   C103893589      1012063.26      1188802.57        0   \n",
              "1207691            0.00  C1623760824       367225.19       535443.15        0   \n",
              "3698513            0.00   C281035507      4345039.38      4838128.97        0   \n",
              "5700457            0.00   C249892418         4745.21       442046.58        0   \n",
              "2964985      9570516.59  C1670321843      2615154.37      2481313.37        0   \n",
              "4450365            0.00  C1925584280      2750915.96      4499982.95        0   \n",
              "38702              0.00  C1182461167      2329693.31      2745020.89        0   \n",
              "4732502            0.00   M530182863            0.00            0.00        0   \n",
              "322867        300102.81  C1852430154       151777.97       163234.00        0   \n",
              "\n",
              "         isFlaggedFraud  \n",
              "2474990               0  \n",
              "4808043               0  \n",
              "1207691               0  \n",
              "3698513               0  \n",
              "5700457               0  \n",
              "2964985               0  \n",
              "4450365               0  \n",
              "38702                 0  \n",
              "4732502               0  \n",
              "322867                0  "
            ],
            "text/html": [
              "\n",
              "  <div id=\"df-0a27381e-d8b3-4acf-bb40-53f13ca1bf5f\">\n",
              "    <div class=\"colab-df-container\">\n",
              "      <div>\n",
              "<style scoped>\n",
              "    .dataframe tbody tr th:only-of-type {\n",
              "        vertical-align: middle;\n",
              "    }\n",
              "\n",
              "    .dataframe tbody tr th {\n",
              "        vertical-align: top;\n",
              "    }\n",
              "\n",
              "    .dataframe thead th {\n",
              "        text-align: right;\n",
              "    }\n",
              "</style>\n",
              "<table border=\"1\" class=\"dataframe\">\n",
              "  <thead>\n",
              "    <tr style=\"text-align: right;\">\n",
              "      <th></th>\n",
              "      <th>step</th>\n",
              "      <th>type</th>\n",
              "      <th>amount</th>\n",
              "      <th>nameOrig</th>\n",
              "      <th>oldbalanceOrg</th>\n",
              "      <th>newbalanceOrig</th>\n",
              "      <th>nameDest</th>\n",
              "      <th>oldbalanceDest</th>\n",
              "      <th>newbalanceDest</th>\n",
              "      <th>isFraud</th>\n",
              "      <th>isFlaggedFraud</th>\n",
              "    </tr>\n",
              "  </thead>\n",
              "  <tbody>\n",
              "    <tr>\n",
              "      <th>2474990</th>\n",
              "      <td>204</td>\n",
              "      <td>CASH_OUT</td>\n",
              "      <td>134893.81</td>\n",
              "      <td>C1054767703</td>\n",
              "      <td>1034.00</td>\n",
              "      <td>0.00</td>\n",
              "      <td>C1975664031</td>\n",
              "      <td>378507.36</td>\n",
              "      <td>513401.17</td>\n",
              "      <td>0</td>\n",
              "      <td>0</td>\n",
              "    </tr>\n",
              "    <tr>\n",
              "      <th>4808043</th>\n",
              "      <td>346</td>\n",
              "      <td>CASH_OUT</td>\n",
              "      <td>176739.30</td>\n",
              "      <td>C1882600964</td>\n",
              "      <td>0.00</td>\n",
              "      <td>0.00</td>\n",
              "      <td>C103893589</td>\n",
              "      <td>1012063.26</td>\n",
              "      <td>1188802.57</td>\n",
              "      <td>0</td>\n",
              "      <td>0</td>\n",
              "    </tr>\n",
              "    <tr>\n",
              "      <th>1207691</th>\n",
              "      <td>133</td>\n",
              "      <td>CASH_OUT</td>\n",
              "      <td>168217.96</td>\n",
              "      <td>C1117740108</td>\n",
              "      <td>0.00</td>\n",
              "      <td>0.00</td>\n",
              "      <td>C1623760824</td>\n",
              "      <td>367225.19</td>\n",
              "      <td>535443.15</td>\n",
              "      <td>0</td>\n",
              "      <td>0</td>\n",
              "    </tr>\n",
              "    <tr>\n",
              "      <th>3698513</th>\n",
              "      <td>277</td>\n",
              "      <td>CASH_OUT</td>\n",
              "      <td>493089.60</td>\n",
              "      <td>C1446463232</td>\n",
              "      <td>0.00</td>\n",
              "      <td>0.00</td>\n",
              "      <td>C281035507</td>\n",
              "      <td>4345039.38</td>\n",
              "      <td>4838128.97</td>\n",
              "      <td>0</td>\n",
              "      <td>0</td>\n",
              "    </tr>\n",
              "    <tr>\n",
              "      <th>5700457</th>\n",
              "      <td>398</td>\n",
              "      <td>TRANSFER</td>\n",
              "      <td>437301.37</td>\n",
              "      <td>C1150494735</td>\n",
              "      <td>137645.00</td>\n",
              "      <td>0.00</td>\n",
              "      <td>C249892418</td>\n",
              "      <td>4745.21</td>\n",
              "      <td>442046.58</td>\n",
              "      <td>0</td>\n",
              "      <td>0</td>\n",
              "    </tr>\n",
              "    <tr>\n",
              "      <th>2964985</th>\n",
              "      <td>231</td>\n",
              "      <td>CASH_IN</td>\n",
              "      <td>133841.01</td>\n",
              "      <td>C769928778</td>\n",
              "      <td>9436675.58</td>\n",
              "      <td>9570516.59</td>\n",
              "      <td>C1670321843</td>\n",
              "      <td>2615154.37</td>\n",
              "      <td>2481313.37</td>\n",
              "      <td>0</td>\n",
              "      <td>0</td>\n",
              "    </tr>\n",
              "    <tr>\n",
              "      <th>4450365</th>\n",
              "      <td>323</td>\n",
              "      <td>TRANSFER</td>\n",
              "      <td>1749066.99</td>\n",
              "      <td>C929853246</td>\n",
              "      <td>0.00</td>\n",
              "      <td>0.00</td>\n",
              "      <td>C1925584280</td>\n",
              "      <td>2750915.96</td>\n",
              "      <td>4499982.95</td>\n",
              "      <td>0</td>\n",
              "      <td>0</td>\n",
              "    </tr>\n",
              "    <tr>\n",
              "      <th>38702</th>\n",
              "      <td>9</td>\n",
              "      <td>CASH_OUT</td>\n",
              "      <td>415327.58</td>\n",
              "      <td>C1222665243</td>\n",
              "      <td>4438.00</td>\n",
              "      <td>0.00</td>\n",
              "      <td>C1182461167</td>\n",
              "      <td>2329693.31</td>\n",
              "      <td>2745020.89</td>\n",
              "      <td>0</td>\n",
              "      <td>0</td>\n",
              "    </tr>\n",
              "    <tr>\n",
              "      <th>4732502</th>\n",
              "      <td>332</td>\n",
              "      <td>PAYMENT</td>\n",
              "      <td>9017.75</td>\n",
              "      <td>C655685683</td>\n",
              "      <td>1435.00</td>\n",
              "      <td>0.00</td>\n",
              "      <td>M530182863</td>\n",
              "      <td>0.00</td>\n",
              "      <td>0.00</td>\n",
              "      <td>0</td>\n",
              "      <td>0</td>\n",
              "    </tr>\n",
              "    <tr>\n",
              "      <th>322867</th>\n",
              "      <td>16</td>\n",
              "      <td>CASH_OUT</td>\n",
              "      <td>11456.03</td>\n",
              "      <td>C1640029698</td>\n",
              "      <td>311558.84</td>\n",
              "      <td>300102.81</td>\n",
              "      <td>C1852430154</td>\n",
              "      <td>151777.97</td>\n",
              "      <td>163234.00</td>\n",
              "      <td>0</td>\n",
              "      <td>0</td>\n",
              "    </tr>\n",
              "  </tbody>\n",
              "</table>\n",
              "</div>\n",
              "      <button class=\"colab-df-convert\" onclick=\"convertToInteractive('df-0a27381e-d8b3-4acf-bb40-53f13ca1bf5f')\"\n",
              "              title=\"Convert this dataframe to an interactive table.\"\n",
              "              style=\"display:none;\">\n",
              "        \n",
              "  <svg xmlns=\"http://www.w3.org/2000/svg\" height=\"24px\"viewBox=\"0 0 24 24\"\n",
              "       width=\"24px\">\n",
              "    <path d=\"M0 0h24v24H0V0z\" fill=\"none\"/>\n",
              "    <path d=\"M18.56 5.44l.94 2.06.94-2.06 2.06-.94-2.06-.94-.94-2.06-.94 2.06-2.06.94zm-11 1L8.5 8.5l.94-2.06 2.06-.94-2.06-.94L8.5 2.5l-.94 2.06-2.06.94zm10 10l.94 2.06.94-2.06 2.06-.94-2.06-.94-.94-2.06-.94 2.06-2.06.94z\"/><path d=\"M17.41 7.96l-1.37-1.37c-.4-.4-.92-.59-1.43-.59-.52 0-1.04.2-1.43.59L10.3 9.45l-7.72 7.72c-.78.78-.78 2.05 0 2.83L4 21.41c.39.39.9.59 1.41.59.51 0 1.02-.2 1.41-.59l7.78-7.78 2.81-2.81c.8-.78.8-2.07 0-2.86zM5.41 20L4 18.59l7.72-7.72 1.47 1.35L5.41 20z\"/>\n",
              "  </svg>\n",
              "      </button>\n",
              "      \n",
              "  <style>\n",
              "    .colab-df-container {\n",
              "      display:flex;\n",
              "      flex-wrap:wrap;\n",
              "      gap: 12px;\n",
              "    }\n",
              "\n",
              "    .colab-df-convert {\n",
              "      background-color: #E8F0FE;\n",
              "      border: none;\n",
              "      border-radius: 50%;\n",
              "      cursor: pointer;\n",
              "      display: none;\n",
              "      fill: #1967D2;\n",
              "      height: 32px;\n",
              "      padding: 0 0 0 0;\n",
              "      width: 32px;\n",
              "    }\n",
              "\n",
              "    .colab-df-convert:hover {\n",
              "      background-color: #E2EBFA;\n",
              "      box-shadow: 0px 1px 2px rgba(60, 64, 67, 0.3), 0px 1px 3px 1px rgba(60, 64, 67, 0.15);\n",
              "      fill: #174EA6;\n",
              "    }\n",
              "\n",
              "    [theme=dark] .colab-df-convert {\n",
              "      background-color: #3B4455;\n",
              "      fill: #D2E3FC;\n",
              "    }\n",
              "\n",
              "    [theme=dark] .colab-df-convert:hover {\n",
              "      background-color: #434B5C;\n",
              "      box-shadow: 0px 1px 3px 1px rgba(0, 0, 0, 0.15);\n",
              "      filter: drop-shadow(0px 1px 2px rgba(0, 0, 0, 0.3));\n",
              "      fill: #FFFFFF;\n",
              "    }\n",
              "  </style>\n",
              "\n",
              "      <script>\n",
              "        const buttonEl =\n",
              "          document.querySelector('#df-0a27381e-d8b3-4acf-bb40-53f13ca1bf5f button.colab-df-convert');\n",
              "        buttonEl.style.display =\n",
              "          google.colab.kernel.accessAllowed ? 'block' : 'none';\n",
              "\n",
              "        async function convertToInteractive(key) {\n",
              "          const element = document.querySelector('#df-0a27381e-d8b3-4acf-bb40-53f13ca1bf5f');\n",
              "          const dataTable =\n",
              "            await google.colab.kernel.invokeFunction('convertToInteractive',\n",
              "                                                     [key], {});\n",
              "          if (!dataTable) return;\n",
              "\n",
              "          const docLinkHtml = 'Like what you see? Visit the ' +\n",
              "            '<a target=\"_blank\" href=https://colab.research.google.com/notebooks/data_table.ipynb>data table notebook</a>'\n",
              "            + ' to learn more about interactive tables.';\n",
              "          element.innerHTML = '';\n",
              "          dataTable['output_type'] = 'display_data';\n",
              "          await google.colab.output.renderOutput(dataTable, element);\n",
              "          const docLink = document.createElement('div');\n",
              "          docLink.innerHTML = docLinkHtml;\n",
              "          element.appendChild(docLink);\n",
              "        }\n",
              "      </script>\n",
              "    </div>\n",
              "  </div>\n",
              "  "
            ]
          },
          "metadata": {},
          "execution_count": 2
        }
      ]
    },
    {
      "cell_type": "code",
      "source": [
        "dados.info()"
      ],
      "metadata": {
        "colab": {
          "base_uri": "https://localhost:8080/"
        },
        "id": "sUMjWgAQ9K22",
        "outputId": "94e98211-8992-405e-a85e-4bf4eb22edf0"
      },
      "execution_count": 3,
      "outputs": [
        {
          "output_type": "stream",
          "name": "stdout",
          "text": [
            "<class 'pandas.core.frame.DataFrame'>\n",
            "RangeIndex: 6362620 entries, 0 to 6362619\n",
            "Data columns (total 11 columns):\n",
            " #   Column          Dtype  \n",
            "---  ------          -----  \n",
            " 0   step            int64  \n",
            " 1   type            object \n",
            " 2   amount          float64\n",
            " 3   nameOrig        object \n",
            " 4   oldbalanceOrg   float64\n",
            " 5   newbalanceOrig  float64\n",
            " 6   nameDest        object \n",
            " 7   oldbalanceDest  float64\n",
            " 8   newbalanceDest  float64\n",
            " 9   isFraud         int64  \n",
            " 10  isFlaggedFraud  int64  \n",
            "dtypes: float64(5), int64(3), object(3)\n",
            "memory usage: 534.0+ MB\n"
          ]
        }
      ]
    },
    {
      "cell_type": "code",
      "source": [
        "dados.isnull().sum()"
      ],
      "metadata": {
        "colab": {
          "base_uri": "https://localhost:8080/"
        },
        "id": "wPZes5yY9dwi",
        "outputId": "54167961-19d8-4c32-d7dd-ffb57b525341"
      },
      "execution_count": 4,
      "outputs": [
        {
          "output_type": "execute_result",
          "data": {
            "text/plain": [
              "step              0\n",
              "type              0\n",
              "amount            0\n",
              "nameOrig          0\n",
              "oldbalanceOrg     0\n",
              "newbalanceOrig    0\n",
              "nameDest          0\n",
              "oldbalanceDest    0\n",
              "newbalanceDest    0\n",
              "isFraud           0\n",
              "isFlaggedFraud    0\n",
              "dtype: int64"
            ]
          },
          "metadata": {},
          "execution_count": 4
        }
      ]
    },
    {
      "cell_type": "code",
      "metadata": {
        "colab": {
          "base_uri": "https://localhost:8080/"
        },
        "id": "SQKKs2VYYcwH",
        "outputId": "64b0961c-8e21-49b4-f3da-8e7bb80527f3"
      },
      "source": [
        "dados['isFraud'].value_counts()"
      ],
      "execution_count": 5,
      "outputs": [
        {
          "output_type": "execute_result",
          "data": {
            "text/plain": [
              "0    6354407\n",
              "1       8213\n",
              "Name: isFraud, dtype: int64"
            ]
          },
          "metadata": {},
          "execution_count": 5
        }
      ]
    },
    {
      "cell_type": "code",
      "metadata": {
        "colab": {
          "base_uri": "https://localhost:8080/"
        },
        "id": "DsSlPX6zYi5a",
        "outputId": "7421a0b5-a14a-4a88-b0ab-c7de3b83fdb6"
      },
      "source": [
        "dados['isFraud'].value_counts()/dados.shape[0]"
      ],
      "execution_count": 6,
      "outputs": [
        {
          "output_type": "execute_result",
          "data": {
            "text/plain": [
              "0    0.998709\n",
              "1    0.001291\n",
              "Name: isFraud, dtype: float64"
            ]
          },
          "metadata": {},
          "execution_count": 6
        }
      ]
    },
    {
      "cell_type": "code",
      "metadata": {
        "colab": {
          "base_uri": "https://localhost:8080/",
          "height": 290
        },
        "id": "1F5FcRakYONB",
        "outputId": "c882afa2-70b4-4bf8-be3a-22305bb59b8b"
      },
      "source": [
        "import seaborn as sns\n",
        "\n",
        "sns.countplot(x = dados['isFraud']);"
      ],
      "execution_count": 7,
      "outputs": [
        {
          "output_type": "display_data",
          "data": {
            "text/plain": [
              "<Figure size 432x288 with 1 Axes>"
            ],
            "image/png": "[encoded data removed]"
          },
          "metadata": {
            "needs_background": "light"
          }
        }
      ]
    },
    {
      "cell_type": "markdown",
      "metadata": {
        "id": "zAfr_safvQAm"
      },
      "source": [
        "---\n",
        "# ◾ **Etapa 2.** Análise Exploratória dos Dados"
      ]
    },
    {
      "cell_type": "code",
      "source": [
        "#sweetviz\n",
        "!pip install sweetviz \n",
        "import sweetviz as sv\n",
        "eda = sv.analyze(source = dados, target_feat = 'isFraud')\n",
        "eda.show_notebook()\n"
      ],
      "metadata": {
        "id": "MyOA8F-aPTvM"
      },
      "execution_count": null,
      "outputs": []
    },
    {
      "cell_type": "markdown",
      "source": [
        "**Essa biblioteca faz uma análise exploratória completa, porém consome bastante memória. Recomendo usá-la separadamente para não travar o modelo.**"
      ],
      "metadata": {
        "id": "dSwVPx3eTek3"
      }
    },
    {
      "cell_type": "markdown",
      "metadata": {
        "id": "y6ki8QHnvQbW"
      },
      "source": [
        "---\n",
        "# ◾ **Etapa 3.** Pré-processamento dos Dados\n",
        "\n",
        "Vamos fazer uma modelagem utilizando **Árvores de Decisão**. \n",
        "\n",
        "Árvores são excelentes modelos para serem utilizados em uma primeira análise e começar a sentir o conjunto de dados. \n",
        "\n",
        "Uma árvore bem ajustada é um algoritmo que costuma oferecer boa performance preditiva.\n",
        "\n",
        "O modelo apresenta algumas vaariáveis categóricas, então iremos transformar essas variáveis em numéricas ( int ou float). "
      ]
    },
    {
      "cell_type": "code",
      "source": [
        "from sklearn.preprocessing import Normalizer, LabelEncoder"
      ],
      "metadata": {
        "id": "WRW1AP-9_6xw"
      },
      "execution_count": 8,
      "outputs": []
    },
    {
      "cell_type": "code",
      "source": [
        "# Drop Duplicates\n",
        "dados.drop_duplicates(keep=False, inplace=True)"
      ],
      "metadata": {
        "id": "0OWI_ImdAQTq"
      },
      "execution_count": 9,
      "outputs": []
    },
    {
      "cell_type": "code",
      "source": [
        "%%time\n",
        "def transfer_category(x):# Função para categorizar os valores de transferência\n",
        "    if x >= 75000:\n",
        "        return('HIGH')\n",
        "    elif x < 75000 and x >= 14000:\n",
        "        return('MODERATE')\n",
        "    elif x < 14000:\n",
        "        return('LOW')\n",
        "    else:\n",
        "        return(\"EXTREMLY LOW\")\n",
        "dados['transfer_amount_category'] = dados.amount.apply(transfer_category)    \n",
        "dados.head(2)"
      ],
      "metadata": {
        "colab": {
          "base_uri": "https://localhost:8080/"
        },
        "id": "vmf_fIH2AqtX",
        "outputId": "d828f253-d0c7-4f4a-8a92-eee7f9d14468"
      },
      "execution_count": 10,
      "outputs": [
        {
          "output_type": "stream",
          "name": "stdout",
          "text": [
            "CPU times: user 2.49 s, sys: 133 ms, total: 2.62 s\n",
            "Wall time: 3.54 s\n"
          ]
        }
      ]
    },
    {
      "cell_type": "code",
      "source": [
        "label_encoder = LabelEncoder() # Transformar as categóricas em numéricas.\n",
        "dados['type_encode'] = label_encoder.fit_transform(dados['type']) \n",
        "dados['nameOrig_encode'] = label_encoder.fit_transform(dados['nameOrig']) \n",
        "dados['nameDest_encode'] = label_encoder.fit_transform(dados['nameDest']) \n",
        "dados['transfer_amount_category_encode'] = label_encoder.fit_transform(dados['transfer_amount_category']) "
      ],
      "metadata": {
        "id": "iyml8fr_A5JA"
      },
      "execution_count": 11,
      "outputs": []
    },
    {
      "cell_type": "code",
      "source": [
        "normalizer = Normalizer()\n",
        "amount_scale = normalizer.fit_transform(dados.amount.values.reshape(1,-1))\n",
        "dados['amount_norm'] = amount_scale.reshape(-1,1)\n",
        "amount_oldbalanceOrg = normalizer.fit_transform(dados.oldbalanceOrg.values.reshape(1,-1))\n",
        "dados['oldbalanceOrg_norm'] = amount_oldbalanceOrg.reshape(-1,1)\n",
        "amount_newbalanceOrig = normalizer.fit_transform(dados.newbalanceOrig.values.reshape(1,-1))\n",
        "dados['newbalanceOrig_norm'] = amount_newbalanceOrig.reshape(-1,1)\n",
        "amount_oldbalanceDest= normalizer.fit_transform(dados.oldbalanceDest.values.reshape(1,-1))\n",
        "dados['oldbalanceDest_norm'] = amount_oldbalanceDest.reshape(-1,1)\n",
        "amount_newbalanceDest = normalizer.fit_transform(dados.newbalanceDest.values.reshape(1,-1))\n",
        "dados['newbalanceDest_norm'] = amount_newbalanceDest.reshape(-1,1)"
      ],
      "metadata": {
        "id": "vleMWkVCvd2U"
      },
      "execution_count": 16,
      "outputs": []
    },
    {
      "cell_type": "code",
      "source": [
        "dados.info()"
      ],
      "metadata": {
        "colab": {
          "base_uri": "https://localhost:8080/"
        },
        "id": "tBm4t16D9c2L",
        "outputId": "2b5417c9-aaf5-4bea-841f-b47a1c92b647"
      },
      "execution_count": 27,
      "outputs": [
        {
          "output_type": "stream",
          "name": "stdout",
          "text": [
            "<class 'pandas.core.frame.DataFrame'>\n",
            "Int64Index: 6362620 entries, 0 to 6362619\n",
            "Data columns (total 21 columns):\n",
            " #   Column                           Dtype  \n",
            "---  ------                           -----  \n",
            " 0   step                             int64  \n",
            " 1   type                             object \n",
            " 2   amount                           float64\n",
            " 3   nameOrig                         object \n",
            " 4   oldbalanceOrg                    float64\n",
            " 5   newbalanceOrig                   float64\n",
            " 6   nameDest                         object \n",
            " 7   oldbalanceDest                   float64\n",
            " 8   newbalanceDest                   float64\n",
            " 9   isFraud                          int64  \n",
            " 10  isFlaggedFraud                   int64  \n",
            " 11  transfer_amount_category         object \n",
            " 12  type_encode                      int64  \n",
            " 13  nameOrig_encode                  int64  \n",
            " 14  nameDest_encode                  int64  \n",
            " 15  transfer_amount_category_encode  int64  \n",
            " 16  amount_norm                      float64\n",
            " 17  oldbalanceOrg_norm               float64\n",
            " 18  newbalanceOrig_norm              float64\n",
            " 19  oldbalanceDest_norm              float64\n",
            " 20  newbalanceDest_norm              float64\n",
            "dtypes: float64(10), int64(7), object(4)\n",
            "memory usage: 1.0+ GB\n"
          ]
        }
      ]
    },
    {
      "cell_type": "markdown",
      "metadata": {
        "id": "6Do50H2z9rwS"
      },
      "source": [
        "---\n",
        "# ◾ **Etapa 4.** Processo de Modelagem"
      ]
    },
    {
      "cell_type": "code",
      "execution_count": 28,
      "metadata": {
        "id": "db158703"
      },
      "outputs": [],
      "source": [
        "from sklearn.model_selection import train_test_split\n",
        "\n",
        "X = dados[['type_encode','nameOrig_encode','nameDest_encode',\n",
        "          'transfer_amount_category_encode','amount_norm',\n",
        "          'oldbalanceOrg_norm','newbalanceOrig_norm',\n",
        "          'oldbalanceDest_norm','newbalanceDest_norm','isFlaggedFraud']]\n",
        "y = dados['isFraud']\n",
        "\n",
        "Xtreino, Xteste, ytreino, yteste = train_test_split(X, y, test_size = .25, stratify = y, random_state = 333)\n",
        "\n",
        "dadosTreino = pd.concat([Xtreino, ytreino], axis = 1)\n",
        "dadosTeste = pd.concat([Xteste, yteste], axis = 1)\n"
      ]
    },
    {
      "cell_type": "code",
      "source": [
        "import numpy as np\n",
        "\n",
        "from sklearn.metrics import accuracy_score, recall_score, precision_score, \\\n",
        "                             f1_score, roc_auc_score, confusion_matrix, \\\n",
        "                             classification_report\n",
        "\n",
        "from sklearn.tree import DecisionTreeClassifier \n",
        "from sklearn.model_selection import RandomizedSearchCV\n",
        "from sklearn.model_selection import RepeatedStratifiedKFold\n",
        "\n",
        "validacao = RepeatedStratifiedKFold(n_splits = 5, n_repeats = 1)"
      ],
      "metadata": {
        "id": "DDe-km3oQLz1"
      },
      "execution_count": 29,
      "outputs": []
    },
    {
      "cell_type": "code",
      "source": [
        "def Modelagem(Treino, Teste, nome = 'experimento1', iteracoes = 2):\n",
        "   \n",
        "    Xtreino = Treino.drop('isFraud', axis = 1)\n",
        "    ytreino = Treino['isFraud']    \n",
        "    \n",
        "    Xteste = Teste.drop('isFraud', axis = 1)\n",
        "    yteste = Teste['isFraud']\n",
        "\n",
        "    parametros = {  'criterion': ['gini', 'entropy'],\n",
        "                    'max_depth' :[2, 3, 4, 5, 6,],\n",
        "                    'min_samples_split': [10, 20, 30], \n",
        "                    }\n",
        "\n",
        "    modelo = DecisionTreeClassifier()\n",
        "\n",
        "    arvore = RandomizedSearchCV(modelo, \n",
        "                            param_distributions = parametros,\n",
        "                            scoring = 'f1', \n",
        "                            cv = validacao,\n",
        "                            n_iter = iteracoes, \n",
        "                            )\n",
        "\n",
        "\n",
        "    arvore.fit(Xtreino, ytreino)\n",
        "\n",
        "    predicoes = arvore.predict(Xteste)\n",
        "\n",
        "    acc = accuracy_score(predicoes, yteste)\n",
        "    sen = recall_score(predicoes, yteste)\n",
        "    pre = precision_score(predicoes, yteste)\n",
        "    f1s = f1_score(predicoes, yteste)\n",
        "    auc = roc_auc_score(predicoes, yteste)\n",
        "\n",
        "    medidas = {'Acurácia': [acc], 'Sensibilidade': [sen], 'Precisão': [pre], 'F1-Score': [f1s], 'AUC': [auc]}\n",
        "\n",
        "    print(classification_report(predicoes, yteste, digits = 4)[:220])\n",
        "\n",
        "    print('Matriz de Confusão:\\n\\n', confusion_matrix(predicoes, yteste))\n",
        "\n",
        "    return pd.DataFrame(medidas, index = [nome]).round(4), arvore"
      ],
      "metadata": {
        "id": "wzlZemeIhQOs"
      },
      "execution_count": 30,
      "outputs": []
    },
    {
      "cell_type": "code",
      "source": [
        "arvore = Modelagem(dadosTreino, dadosTeste, 'Árvore Simples', 2)"
      ],
      "metadata": {
        "colab": {
          "base_uri": "https://localhost:8080/"
        },
        "id": "cKe9W8oCT3fw",
        "outputId": "8f2b6aae-5a8e-40d4-ba94-02eeb236099d"
      },
      "execution_count": 31,
      "outputs": [
        {
          "output_type": "stream",
          "name": "stdout",
          "text": [
            "              precision    recall  f1-score   support\n",
            "\n",
            "           0     1.0000    0.9995    0.9998   1589322\n",
            "           1     0.6386    0.9835    0.7744      1333\n",
            "\n",
            "    accuracy                         0.9995   1590655\n",
            "  \n",
            "Matriz de Confusão:\n",
            "\n",
            " [[1588580     742]\n",
            " [     22    1311]]\n"
          ]
        }
      ]
    },
    {
      "cell_type": "markdown",
      "source": [
        "Interpretação da matriz de confusão:\n",
        "\n",
        "- O modelo acertou praticamente 100% dos valores verdadeiros ( não fraude = 0)  \n",
        "- A precisão de 63% dos valores negativos ocorreu por conta do desbalanceamento dos dados, apenas 0,12% são negativos (valores = 1).\n",
        "- Nesse modelo também podemos identificar corretamente 98% das Fraudes."
      ],
      "metadata": {
        "id": "BGr1tXiFAH8N"
      }
    },
    {
      "cell_type": "code",
      "source": [
        "arvore[0]"
      ],
      "metadata": {
        "colab": {
          "base_uri": "https://localhost:8080/",
          "height": 81
        },
        "id": "XnioEKD3gAxw",
        "outputId": "75330cf5-8ef1-4cd1-df68-cb85d04c487d"
      },
      "execution_count": 37,
      "outputs": [
        {
          "output_type": "execute_result",
          "data": {
            "text/plain": [
              "                Acurácia  Sensibilidade  Precisão  F1-Score     AUC\n",
              "Árvore Simples    0.9995         0.9835    0.6386    0.7744  0.9915"
            ],
            "text/html": [
              "\n",
              "  <div id=\"df-d003768d-6e96-4705-b0f3-300381b3bdb6\">\n",
              "    <div class=\"colab-df-container\">\n",
              "      <div>\n",
              "<style scoped>\n",
              "    .dataframe tbody tr th:only-of-type {\n",
              "        vertical-align: middle;\n",
              "    }\n",
              "\n",
              "    .dataframe tbody tr th {\n",
              "        vertical-align: top;\n",
              "    }\n",
              "\n",
              "    .dataframe thead th {\n",
              "        text-align: right;\n",
              "    }\n",
              "</style>\n",
              "<table border=\"1\" class=\"dataframe\">\n",
              "  <thead>\n",
              "    <tr style=\"text-align: right;\">\n",
              "      <th></th>\n",
              "      <th>Acurácia</th>\n",
              "      <th>Sensibilidade</th>\n",
              "      <th>Precisão</th>\n",
              "      <th>F1-Score</th>\n",
              "      <th>AUC</th>\n",
              "    </tr>\n",
              "  </thead>\n",
              "  <tbody>\n",
              "    <tr>\n",
              "      <th>Árvore Simples</th>\n",
              "      <td>0.9995</td>\n",
              "      <td>0.9835</td>\n",
              "      <td>0.6386</td>\n",
              "      <td>0.7744</td>\n",
              "      <td>0.9915</td>\n",
              "    </tr>\n",
              "  </tbody>\n",
              "</table>\n",
              "</div>\n",
              "      <button class=\"colab-df-convert\" onclick=\"convertToInteractive('df-d003768d-6e96-4705-b0f3-300381b3bdb6')\"\n",
              "              title=\"Convert this dataframe to an interactive table.\"\n",
              "              style=\"display:none;\">\n",
              "        \n",
              "  <svg xmlns=\"http://www.w3.org/2000/svg\" height=\"24px\"viewBox=\"0 0 24 24\"\n",
              "       width=\"24px\">\n",
              "    <path d=\"M0 0h24v24H0V0z\" fill=\"none\"/>\n",
              "    <path d=\"M18.56 5.44l.94 2.06.94-2.06 2.06-.94-2.06-.94-.94-2.06-.94 2.06-2.06.94zm-11 1L8.5 8.5l.94-2.06 2.06-.94-2.06-.94L8.5 2.5l-.94 2.06-2.06.94zm10 10l.94 2.06.94-2.06 2.06-.94-2.06-.94-.94-2.06-.94 2.06-2.06.94z\"/><path d=\"M17.41 7.96l-1.37-1.37c-.4-.4-.92-.59-1.43-.59-.52 0-1.04.2-1.43.59L10.3 9.45l-7.72 7.72c-.78.78-.78 2.05 0 2.83L4 21.41c.39.39.9.59 1.41.59.51 0 1.02-.2 1.41-.59l7.78-7.78 2.81-2.81c.8-.78.8-2.07 0-2.86zM5.41 20L4 18.59l7.72-7.72 1.47 1.35L5.41 20z\"/>\n",
              "  </svg>\n",
              "      </button>\n",
              "      \n",
              "  <style>\n",
              "    .colab-df-container {\n",
              "      display:flex;\n",
              "      flex-wrap:wrap;\n",
              "      gap: 12px;\n",
              "    }\n",
              "\n",
              "    .colab-df-convert {\n",
              "      background-color: #E8F0FE;\n",
              "      border: none;\n",
              "      border-radius: 50%;\n",
              "      cursor: pointer;\n",
              "      display: none;\n",
              "      fill: #1967D2;\n",
              "      height: 32px;\n",
              "      padding: 0 0 0 0;\n",
              "      width: 32px;\n",
              "    }\n",
              "\n",
              "    .colab-df-convert:hover {\n",
              "      background-color: #E2EBFA;\n",
              "      box-shadow: 0px 1px 2px rgba(60, 64, 67, 0.3), 0px 1px 3px 1px rgba(60, 64, 67, 0.15);\n",
              "      fill: #174EA6;\n",
              "    }\n",
              "\n",
              "    [theme=dark] .colab-df-convert {\n",
              "      background-color: #3B4455;\n",
              "      fill: #D2E3FC;\n",
              "    }\n",
              "\n",
              "    [theme=dark] .colab-df-convert:hover {\n",
              "      background-color: #434B5C;\n",
              "      box-shadow: 0px 1px 3px 1px rgba(0, 0, 0, 0.15);\n",
              "      filter: drop-shadow(0px 1px 2px rgba(0, 0, 0, 0.3));\n",
              "      fill: #FFFFFF;\n",
              "    }\n",
              "  </style>\n",
              "\n",
              "      <script>\n",
              "        const buttonEl =\n",
              "          document.querySelector('#df-d003768d-6e96-4705-b0f3-300381b3bdb6 button.colab-df-convert');\n",
              "        buttonEl.style.display =\n",
              "          google.colab.kernel.accessAllowed ? 'block' : 'none';\n",
              "\n",
              "        async function convertToInteractive(key) {\n",
              "          const element = document.querySelector('#df-d003768d-6e96-4705-b0f3-300381b3bdb6');\n",
              "          const dataTable =\n",
              "            await google.colab.kernel.invokeFunction('convertToInteractive',\n",
              "                                                     [key], {});\n",
              "          if (!dataTable) return;\n",
              "\n",
              "          const docLinkHtml = 'Like what you see? Visit the ' +\n",
              "            '<a target=\"_blank\" href=https://colab.research.google.com/notebooks/data_table.ipynb>data table notebook</a>'\n",
              "            + ' to learn more about interactive tables.';\n",
              "          element.innerHTML = '';\n",
              "          dataTable['output_type'] = 'display_data';\n",
              "          await google.colab.output.renderOutput(dataTable, element);\n",
              "          const docLink = document.createElement('div');\n",
              "          docLink.innerHTML = docLinkHtml;\n",
              "          element.appendChild(docLink);\n",
              "        }\n",
              "      </script>\n",
              "    </div>\n",
              "  </div>\n",
              "  "
            ]
          },
          "metadata": {},
          "execution_count": 37
        }
      ]
    },
    {
      "cell_type": "markdown",
      "source": [
        "## ◽ **Ajuste do Ponto de Corte**"
      ],
      "metadata": {
        "id": "htCjOSVWsnCX"
      }
    },
    {
      "cell_type": "code",
      "source": [
        "from sklearn.metrics import precision_recall_curve \n",
        "propensoes = arvore[1].predict_proba(Xteste)[:,1]\n",
        "\n",
        "precision, recall, thresholds = precision_recall_curve(yteste, propensoes)"
      ],
      "metadata": {
        "id": "yWidA-fxv6tl"
      },
      "execution_count": 33,
      "outputs": []
    },
    {
      "cell_type": "code",
      "source": [
        "from sklearn.metrics import PrecisionRecallDisplay \n",
        "import matplotlib.pyplot as plt\n",
        "PrecisionRecallDisplay.from_predictions(yteste, propensoes)\n",
        "plt.show()"
      ],
      "metadata": {
        "colab": {
          "base_uri": "https://localhost:8080/",
          "height": 279
        },
        "id": "P3gSvlLcxR3Y",
        "outputId": "834274f9-23b3-4d64-c1f3-48c3f0991dd6"
      },
      "execution_count": 34,
      "outputs": [
        {
          "output_type": "display_data",
          "data": {
            "text/plain": [
              "<Figure size 432x288 with 1 Axes>"
            ],
            "image/png": "[encoded data removed]"
          },
          "metadata": {
            "needs_background": "light"
          }
        }
      ]
    },
    {
      "cell_type": "code",
      "source": [
        "#custos\n",
        "s = 1\n",
        "p = 2\n",
        "\n",
        "aux = pd.DataFrame({ 'Sensibilidade': recall[1:], 'Precisao': precision[1:], 'Corte': thresholds })\n",
        "aux['Custo'] = (p*aux['Precisao'] + s*aux['Sensibilidade'])/(p+s)\n",
        "aux.sort_values(by = 'Custo', ascending = False)"
      ],
      "metadata": {
        "colab": {
          "base_uri": "https://localhost:8080/",
          "height": 394
        },
        "id": "BJunzeVUw6ro",
        "outputId": "0e9b450e-9c32-4030-dd88-98d93abd328f"
      },
      "execution_count": 35,
      "outputs": [
        {
          "output_type": "execute_result",
          "data": {
            "text/plain": [
              "    Sensibilidade  Precisao     Corte     Custo\n",
              "6        0.638578  0.983496  0.100000  0.868523\n",
              "5        0.638578  0.982759  0.032738  0.868032\n",
              "7        0.608865  0.991277  0.849315  0.863806\n",
              "8        0.608378  0.991270  0.857143  0.863639\n",
              "9        0.372138  0.998693  0.975912  0.789841\n",
              "10       0.000000  1.000000  1.000000  0.666667\n",
              "4        0.655626  0.514526  0.024595  0.561559\n",
              "3        0.710667  0.175974  0.001128  0.354205\n",
              "1        0.999026  0.003623  0.000052  0.335424\n",
              "0        0.999513  0.003222  0.000000  0.335319\n",
              "2        0.995129  0.003662  0.000489  0.334151"
            ],
            "text/html": [
              "\n",
              "  <div id=\"df-788adbfb-7626-4d5f-ba4b-e75784d71208\">\n",
              "    <div class=\"colab-df-container\">\n",
              "      <div>\n",
              "<style scoped>\n",
              "    .dataframe tbody tr th:only-of-type {\n",
              "        vertical-align: middle;\n",
              "    }\n",
              "\n",
              "    .dataframe tbody tr th {\n",
              "        vertical-align: top;\n",
              "    }\n",
              "\n",
              "    .dataframe thead th {\n",
              "        text-align: right;\n",
              "    }\n",
              "</style>\n",
              "<table border=\"1\" class=\"dataframe\">\n",
              "  <thead>\n",
              "    <tr style=\"text-align: right;\">\n",
              "      <th></th>\n",
              "      <th>Sensibilidade</th>\n",
              "      <th>Precisao</th>\n",
              "      <th>Corte</th>\n",
              "      <th>Custo</th>\n",
              "    </tr>\n",
              "  </thead>\n",
              "  <tbody>\n",
              "    <tr>\n",
              "      <th>6</th>\n",
              "      <td>0.638578</td>\n",
              "      <td>0.983496</td>\n",
              "      <td>0.100000</td>\n",
              "      <td>0.868523</td>\n",
              "    </tr>\n",
              "    <tr>\n",
              "      <th>5</th>\n",
              "      <td>0.638578</td>\n",
              "      <td>0.982759</td>\n",
              "      <td>0.032738</td>\n",
              "      <td>0.868032</td>\n",
              "    </tr>\n",
              "    <tr>\n",
              "      <th>7</th>\n",
              "      <td>0.608865</td>\n",
              "      <td>0.991277</td>\n",
              "      <td>0.849315</td>\n",
              "      <td>0.863806</td>\n",
              "    </tr>\n",
              "    <tr>\n",
              "      <th>8</th>\n",
              "      <td>0.608378</td>\n",
              "      <td>0.991270</td>\n",
              "      <td>0.857143</td>\n",
              "      <td>0.863639</td>\n",
              "    </tr>\n",
              "    <tr>\n",
              "      <th>9</th>\n",
              "      <td>0.372138</td>\n",
              "      <td>0.998693</td>\n",
              "      <td>0.975912</td>\n",
              "      <td>0.789841</td>\n",
              "    </tr>\n",
              "    <tr>\n",
              "      <th>10</th>\n",
              "      <td>0.000000</td>\n",
              "      <td>1.000000</td>\n",
              "      <td>1.000000</td>\n",
              "      <td>0.666667</td>\n",
              "    </tr>\n",
              "    <tr>\n",
              "      <th>4</th>\n",
              "      <td>0.655626</td>\n",
              "      <td>0.514526</td>\n",
              "      <td>0.024595</td>\n",
              "      <td>0.561559</td>\n",
              "    </tr>\n",
              "    <tr>\n",
              "      <th>3</th>\n",
              "      <td>0.710667</td>\n",
              "      <td>0.175974</td>\n",
              "      <td>0.001128</td>\n",
              "      <td>0.354205</td>\n",
              "    </tr>\n",
              "    <tr>\n",
              "      <th>1</th>\n",
              "      <td>0.999026</td>\n",
              "      <td>0.003623</td>\n",
              "      <td>0.000052</td>\n",
              "      <td>0.335424</td>\n",
              "    </tr>\n",
              "    <tr>\n",
              "      <th>0</th>\n",
              "      <td>0.999513</td>\n",
              "      <td>0.003222</td>\n",
              "      <td>0.000000</td>\n",
              "      <td>0.335319</td>\n",
              "    </tr>\n",
              "    <tr>\n",
              "      <th>2</th>\n",
              "      <td>0.995129</td>\n",
              "      <td>0.003662</td>\n",
              "      <td>0.000489</td>\n",
              "      <td>0.334151</td>\n",
              "    </tr>\n",
              "  </tbody>\n",
              "</table>\n",
              "</div>\n",
              "      <button class=\"colab-df-convert\" onclick=\"convertToInteractive('df-788adbfb-7626-4d5f-ba4b-e75784d71208')\"\n",
              "              title=\"Convert this dataframe to an interactive table.\"\n",
              "              style=\"display:none;\">\n",
              "        \n",
              "  <svg xmlns=\"http://www.w3.org/2000/svg\" height=\"24px\"viewBox=\"0 0 24 24\"\n",
              "       width=\"24px\">\n",
              "    <path d=\"M0 0h24v24H0V0z\" fill=\"none\"/>\n",
              "    <path d=\"M18.56 5.44l.94 2.06.94-2.06 2.06-.94-2.06-.94-.94-2.06-.94 2.06-2.06.94zm-11 1L8.5 8.5l.94-2.06 2.06-.94-2.06-.94L8.5 2.5l-.94 2.06-2.06.94zm10 10l.94 2.06.94-2.06 2.06-.94-2.06-.94-.94-2.06-.94 2.06-2.06.94z\"/><path d=\"M17.41 7.96l-1.37-1.37c-.4-.4-.92-.59-1.43-.59-.52 0-1.04.2-1.43.59L10.3 9.45l-7.72 7.72c-.78.78-.78 2.05 0 2.83L4 21.41c.39.39.9.59 1.41.59.51 0 1.02-.2 1.41-.59l7.78-7.78 2.81-2.81c.8-.78.8-2.07 0-2.86zM5.41 20L4 18.59l7.72-7.72 1.47 1.35L5.41 20z\"/>\n",
              "  </svg>\n",
              "      </button>\n",
              "      \n",
              "  <style>\n",
              "    .colab-df-container {\n",
              "      display:flex;\n",
              "      flex-wrap:wrap;\n",
              "      gap: 12px;\n",
              "    }\n",
              "\n",
              "    .colab-df-convert {\n",
              "      background-color: #E8F0FE;\n",
              "      border: none;\n",
              "      border-radius: 50%;\n",
              "      cursor: pointer;\n",
              "      display: none;\n",
              "      fill: #1967D2;\n",
              "      height: 32px;\n",
              "      padding: 0 0 0 0;\n",
              "      width: 32px;\n",
              "    }\n",
              "\n",
              "    .colab-df-convert:hover {\n",
              "      background-color: #E2EBFA;\n",
              "      box-shadow: 0px 1px 2px rgba(60, 64, 67, 0.3), 0px 1px 3px 1px rgba(60, 64, 67, 0.15);\n",
              "      fill: #174EA6;\n",
              "    }\n",
              "\n",
              "    [theme=dark] .colab-df-convert {\n",
              "      background-color: #3B4455;\n",
              "      fill: #D2E3FC;\n",
              "    }\n",
              "\n",
              "    [theme=dark] .colab-df-convert:hover {\n",
              "      background-color: #434B5C;\n",
              "      box-shadow: 0px 1px 3px 1px rgba(0, 0, 0, 0.15);\n",
              "      filter: drop-shadow(0px 1px 2px rgba(0, 0, 0, 0.3));\n",
              "      fill: #FFFFFF;\n",
              "    }\n",
              "  </style>\n",
              "\n",
              "      <script>\n",
              "        const buttonEl =\n",
              "          document.querySelector('#df-788adbfb-7626-4d5f-ba4b-e75784d71208 button.colab-df-convert');\n",
              "        buttonEl.style.display =\n",
              "          google.colab.kernel.accessAllowed ? 'block' : 'none';\n",
              "\n",
              "        async function convertToInteractive(key) {\n",
              "          const element = document.querySelector('#df-788adbfb-7626-4d5f-ba4b-e75784d71208');\n",
              "          const dataTable =\n",
              "            await google.colab.kernel.invokeFunction('convertToInteractive',\n",
              "                                                     [key], {});\n",
              "          if (!dataTable) return;\n",
              "\n",
              "          const docLinkHtml = 'Like what you see? Visit the ' +\n",
              "            '<a target=\"_blank\" href=https://colab.research.google.com/notebooks/data_table.ipynb>data table notebook</a>'\n",
              "            + ' to learn more about interactive tables.';\n",
              "          element.innerHTML = '';\n",
              "          dataTable['output_type'] = 'display_data';\n",
              "          await google.colab.output.renderOutput(dataTable, element);\n",
              "          const docLink = document.createElement('div');\n",
              "          docLink.innerHTML = docLinkHtml;\n",
              "          element.appendChild(docLink);\n",
              "        }\n",
              "      </script>\n",
              "    </div>\n",
              "  </div>\n",
              "  "
            ]
          },
          "metadata": {},
          "execution_count": 35
        }
      ]
    },
    {
      "cell_type": "markdown",
      "metadata": {
        "id": "E-zz-N8cvRgm"
      },
      "source": [
        "---\n",
        "# ◾ **Etapa 5. Considerações Finais**"
      ]
    },
    {
      "cell_type": "markdown",
      "source": [
        "## ◽ **Conclusões** \n",
        "- Consertar o problema de desbalanceamento não é fácil!\n",
        "- A análise do ponto de corte pode melhorar bastante os resultados obtidos, permitindo uma escolha mais adequada para o contexto de negócios. "
      ],
      "metadata": {
        "id": "yEJ3I9VlvRgm"
      }
    }
  ]
}